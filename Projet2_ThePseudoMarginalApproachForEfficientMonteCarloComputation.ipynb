{
  "nbformat": 4,
  "nbformat_minor": 0,
  "metadata": {
    "colab": {
      "name": "Projet2_ThePseudoMarginalApproachForEfficientMonteCarloComputation.ipynb",
      "provenance": [],
      "collapsed_sections": []
    },
    "kernelspec": {
      "name": "python3",
      "display_name": "Python 3"
    }
  },
  "cells": [
    {
      "cell_type": "markdown",
      "metadata": {
        "id": "gP2a-NuDuLoq"
      },
      "source": [
        "# **THE PSEUDO MARGINAL APPROACH FOR EFFICIENT MONTE CARLO COMPUTATION**"
      ]
    },
    {
      "cell_type": "markdown",
      "metadata": {
        "id": "VkPXmPCHyYLb"
      },
      "source": [
        "**Members:**\n",
        "- Jinyi Li\n",
        "- Dang Nguyen\n",
        "- Kaixian Huang\n",
        "- Marko Avila\n",
        "- Martin Briceno\n"
      ]
    },
    {
      "cell_type": "markdown",
      "metadata": {
        "id": "CmUDFh_SumGb"
      },
      "source": [
        "## **General context:**"
      ]
    },
    {
      "cell_type": "markdown",
      "metadata": {
        "id": "EaKmfaHTvkGP"
      },
      "source": [
        "### What's is the context and the problem?"
      ]
    },
    {
      "cell_type": "markdown",
      "metadata": {
        "id": "7jfOVsz46Dax"
      },
      "source": [
        "> In many problems **we are interested in knowing the probability distribution of a random variable** in order to perform different tasks such as predicting future values of this one for example. There are cases in which we know its density or a function that is proportional to it, therefore in those cases the Metropolis-Hasting algorithm is useful. However, when we do not have this function or is not available analytically, we must proceed otherwise, for example by using pseudo-marginal algorithms that use estimators of this target density to simulate a markov chain whose invariant distribution  tends to the true distribution.\n",
        "\n",
        "> This article was conceived by Christophe Andrieu and Gareth Roberts both researchers from the University of Bristol and the University of Warwick. **It aims to introduce a powerful and performing Markov Chain Monte Carlo (MCMC) algorithm for stochastic simulation**.\n",
        "\n",
        "> The application of MCMC is related to the **\"curse of dimensionality\"**. \n",
        "Consider we know a distribution on R. If we want to calculate its mathematical expectation, we can do it using integral , which is usually painful because the majority distributions in practice can't be integrated, so what is left? Sampling, so maybe we  can take 100 points with equal distance which can roughly guarantee the accuracy. However, considering a distribution of $R^{50}$, the \"equal distance\" is used to take 100 points in each dimension, so $50^{100}$ points are taken. we only have $10^{87}$ elementary particles in the known universe. How painful it is.\n",
        "\n",
        ">If we carefully observe the results of the **\"equal distance sampling\"** (Histogram), we will find that the probability of most points is very small, and the probability of a few points is very high. And if we ignore most of the points with low probability and only calculate the small part of points with high probability, the effect on the final mathematical expectation is very small. Which inspired MCMC methods. The probabilistic model used by MCMC often has a huge parameter dimension, but the supporting set of each parameter is very small."
      ]
    },
    {
      "cell_type": "markdown",
      "metadata": {
        "id": "VizbL-4GwNnk"
      },
      "source": [
        "### What are the statistical models considered?\n"
      ]
    },
    {
      "cell_type": "markdown",
      "metadata": {
        "id": "36eDM7Ak6VLA"
      },
      "source": [
        "> The powerful algorithm introduced in this article is based on a **pseudo-marginal for efficient Monte Carlo**, however this method was first introduced in [Genetics 164 (2003) 1139–1160], which shows a great property:\n",
        "\n",
        "> **Algorithms which are normally approximations of an idealized marginal algorithm can share the same marginal stationary distribution as that of the ideal method.**\n",
        "\n",
        "> We will also compare this algorithms to the **Metropolis–Hastings algorithm** because this one have an ideal performance."
      ]
    },
    {
      "cell_type": "markdown",
      "metadata": {
        "id": "t9x-S2akwlgT"
      },
      "source": [
        "### What are the main ideas proposed to solve the problem ?"
      ]
    },
    {
      "cell_type": "markdown",
      "metadata": {
        "id": "UtGhfxSbMLGL"
      },
      "source": [
        "#### Main idea:"
      ]
    },
    {
      "cell_type": "markdown",
      "metadata": {
        "id": "S7hXm_txMQWW"
      },
      "source": [
        "> The article proposes two algorithms to solve the problem posed, these algorithms are **MCWM and GIMH**. Both are pseudo-marginal methods. The idea behind both algorithms is the **introduction of auxiliary variables and a probability density estimator, which will be used to simulate an ergodic Markov chain whose invariant probability density is the one we are looking for**. It relies on the fact that the Metropolis–Hastings algorithm can still sample from the correct target distribution if the target density in the acceptance ratio is replaced by an estimate. We will see that while MCWM gives us approximations of target density, GIMH will allow us to achieve our goal. We will also use an MH algorithm for reference purposes."
      ]
    },
    {
      "cell_type": "markdown",
      "metadata": {
        "id": "erGeUowgw3fR"
      },
      "source": [
        "#### Objective of the algorithm:"
      ]
    },
    {
      "cell_type": "markdown",
      "metadata": {
        "id": "59R6lHk_G4Mb"
      },
      "source": [
        "- Obtain the samples with respect to the density $\\pi(θ, z)$\n",
        "- Simulate the probability distribution of $\\pi(dθ, dz)$, which we will assume admits a density $\\pi(θ, z)$, where the variables $θ$ and $z$ are elements of essentially arbitrary spaces,  $\\Theta$ and $Z$, respectively. \n",
        "- Determine the marginal law of $\\pi(d\\theta)$, which we will assume admits a density $\\pi(θ)$, because $θ$ could represent a parameter of interest while $z$ a set of missing data or latent variables\n",
        "- Perform the computations and be precise through the introduction of $z$ that will lead to an analytical expression, or ease the implementation\n",
        "of numerical methods.\n",
        "- Estimate the density required for the computation of the acceptance probability of the MH update."
      ]
    },
    {
      "cell_type": "markdown",
      "metadata": {
        "id": "Nol1cF4xwykM"
      },
      "source": [
        "#### Specific Challenge:"
      ]
    },
    {
      "cell_type": "markdown",
      "metadata": {
        "id": "XrwAX2lRJQCs"
      },
      "source": [
        "- Find the good “proposal probability” distribution, the acceptance ratio, the critical importance of the choice of a good importance sampling.\n",
        "- Use the pseudo-marginal approach to be precise and performant.\n",
        "- Describe ergodicity and uniform ergodicity of GIHM and its exact generalizations in comparison  with inexact variants such as MCWM.\n",
        "- Analyze under what conditions GIHM can be uniformly ergodic with arbitrary precision. \n",
        "- When the density $\\pi(θ)$ is analytically intractable or too complex to evaluate, a typical approach considers the target distribution as a posterior distribution. However, it is well established that in numerous situations they can result in strongly positively correlated samples ${(θ_i,z_i)}$ (not efficient). Hence, the challenge is proposing a method that not only eases implementation but also is statistical and computational efficiency.\n"
      ]
    },
    {
      "cell_type": "markdown",
      "metadata": {
        "id": "rgDPXWvXuqWj"
      },
      "source": [
        "## **The Algorithms:**"
      ]
    },
    {
      "cell_type": "markdown",
      "metadata": {
        "id": "4lh4ls_Zracr"
      },
      "source": [
        "### Relevant parameters and Pseudocode:"
      ]
    },
    {
      "cell_type": "markdown",
      "metadata": {
        "id": "TRU9thBqrdAh"
      },
      "source": [
        "- **The proposal density:** $q(\\theta,.)$ is the density of the proposal distribution $Q(\\theta,.)$ that allows to propose a candidate $\\theta^*$ for the next value of the Markov chain.\n",
        "\n",
        "- **The acceptance probability:** is the function $α$ : $\\Theta^{2} → [0, 1]$ that says us if we accept or rejet the candidate proposed by $q(\\theta,.)$. This function depends on $r$ who also depends on the target density $\\pi$. So we have: $α(θ,θ^{*}) = r(θ,θ^{*}) ∧ 1$ \n",
        "\n",
        "- **The marginal acceptance ratio:** is the function $r$ : $\\Theta^{2} → ]0, +\\infty]$ whose definition is showed in the table below. It depends on the target density or an estimated function of this.\n",
        "\n",
        "- **Importance sampling estimates:** While the MH algorithm use a proportional function of the target density, a natural approach when it is difficult to find this function is to approximate the intractable density values $π(θ)$ and $π(ϑ)$ necessary for the calculation of the acceptance probability $α(θ,θ^{*})$ of the MH update with importance sampling estimates, that is: \n",
        "\n",
        "  For some integer $N \\ge 1$ and some importance probability density $q_{θ}(z)$, we can consider the following estimators:\n",
        "\n",
        "  - $\n",
        "\\tilde{\\pi}^{N}(θ) = \\frac{1}{N}\\sum_{k=1}^{N}\\frac{π(θ,z(k))}{q_{θ}(z(k))}, \n",
        "$\n",
        "with $z(k)|θ $ ~ $q_{θ}(.)$\n",
        "\n",
        "  - $\n",
        "\\tilde{\\pi}^{N}(ϑ) = \\frac{1}{N}\\sum_{k=1}^{N}\\frac{π(ϑ,ʒ(k))}{q_{ϑ}(ʒ(k))}\n",
        "$,\n",
        "with $ʒ(k)|θ $ ~ $q_{ϑ}(.)$\n",
        "\n",
        "- **Auxiliary variables**: As said before, these variables will help to compute more efficiently the target density, as we will build the above estimators with them. We must keep in mind that these variables are sampled by the importance probability density $q_{θ}^{N} (.)$ who is proposed by us, as well as the proposal density.\n",
        "  * $Z := (z(1),z(2),...,z(N))$ with density $q_{θ}^{N} (Z)$\n",
        "  * $Ʒ:= (ʒ(1),ʒ(2),...,ʒ(N))$ with density $q_{ϑ}^{N}(Ʒ)$\n"
      ]
    },
    {
      "cell_type": "markdown",
      "metadata": {
        "id": "CN6TlgZnKAhx"
      },
      "source": [
        "- **The pseudo-code of the 3 algorithms proposed by the article:** \n",
        "\n",
        "Step               | Marginal                 | MCWM                       | GIMH         \n",
        "------------------ | :------------------: | :-------------------------: | :------------:\n",
        "Input              | $θ$ and $π(θ)$       | $θ$ and $π(θ)$             | $θ$, $Z$ and $\\tilde{π}^N(θ)$ |\n",
        "Sample             | $θ^{∗}$ ∼ $q(θ,·)$   | $θ^{∗}$ ∼ $q(θ,·)$ <br/> $Z$ ∼ $q_{θ}^{N}(·)$ <br/> $Z^{∗}$ ∼  $q_{θ^{∗}}^{N}(·)$ | $θ^{∗}$ ∼ $q(θ,·)$ <br/> $Z^{∗}$ ∼  $q_{θ^{∗}}^{N}(·)$\n",
        "Compute estimator  | $\\pi(θ^*)$           | $\\tilde{\\pi}^{N}(θ)$ <br/> $\\tilde{\\pi}^{N}(θ^ {*})$ | $\\tilde{\\pi}^{N}(θ^{*})$\n",
        "Compute r          | $\\frac{\\pi(θ^{*})q(θ^{*},θ)}{\\pi(θ)q(θ, θ^{*})}$ | $\\frac{\\tilde{\\pi}^{N}(θ^{*})q(θ^{*},θ)}{\\tilde{\\pi}^{N}(θ)q(θ, θ^{*})}$ | $\\frac{\\tilde{\\pi}^{N}(θ^{*})q(θ^{*},θ)}{\\tilde{\\pi}^{N}(θ)q(θ, θ^{*})}$\n",
        "Update             | $ϑ = θ^{∗}$ with probability $1 ∧ r$ <br/> $ϑ = θ$ otherwise | $ϑ = θ^{∗}$ with probability  $ 1 ∧ r $ <br/> $ϑ = θ$  otherwise | $ϑ = θ^{∗}$ With probability $ 1 ∧ r $ <br/> $Ʒ = Z^{*}$ With probability  $ 1 ∧ r $ <br/>  $ϑ = θ$ otherwise<br/>  $Ʒ = Z$ otherwise\n",
        "\n"
      ]
    },
    {
      "cell_type": "markdown",
      "metadata": {
        "id": "Za6fiy5Aw-yq"
      },
      "source": [
        "### Metropolis-Hastings (Marginal):"
      ]
    },
    {
      "cell_type": "markdown",
      "metadata": {
        "id": "Shya3b4E6stS"
      },
      "source": [
        "> **This algorithm is used when $π(θ)$ is known analytically or cheap to compute**, because we can generate “more efficient” samples {$θ_i$} from a Markov chain with a transition probability $P$ with invariant density $π(θ)$ and proposal density $q(θ,.)$. We will use this transition probability as a reference."
      ]
    },
    {
      "cell_type": "markdown",
      "metadata": {
        "id": "bEV7xVorb_B8"
      },
      "source": [
        "**The transition probability:**"
      ]
    },
    {
      "cell_type": "markdown",
      "metadata": {
        "id": "PrxBR3nj8RWH"
      },
      "source": [
        "> As a standard MH algorithm who targets $π(dθ)$ and uses $Q(θ,dθ)$ as proposal distribution is defined for any $θ, θ ∈ \\Theta$ as:\n",
        "$$\n",
        "P(θ,dϑ) = α(θ,ϑ) Q(θ,dϑ) + δ_{θ}(dϑ)[1 −\\int_{\\Theta}α(θ,ϑ)Q(θ,dϑ)]\n",
        "$$\n"
      ]
    },
    {
      "cell_type": "markdown",
      "metadata": {
        "id": "cUkMBQvCxJ_8"
      },
      "source": [
        "### Monte Carlos within Metropolis (MCWM):"
      ]
    },
    {
      "cell_type": "markdown",
      "metadata": {
        "id": "631A3v4APVGl"
      },
      "source": [
        "> The MCWM pseudo-algorithm is based on trying to **approximate the Markov kernel $P$ (transition probability)**, independently in each iteration using the ratio averages given in the estimators above."
      ]
    },
    {
      "cell_type": "markdown",
      "metadata": {
        "id": "iHz8Lt1jbzKF"
      },
      "source": [
        "**The transition probability:**"
      ]
    },
    {
      "cell_type": "markdown",
      "metadata": {
        "id": "H27KerrU-n7L"
      },
      "source": [
        "> The transition probability of the generalization of MCWM is not a standard MH algorithm. \n",
        "\n",
        "$$\n",
        "\\tilde P_{N}^{noisy}(θ,dϑ)  = Q_{θ}^{N} ⊗ Q_{ϑ}^{N} (\\tildeα^{N}(θ,ϑ))Q(θ,dϑ)+ δ_{θ}(dϑ)[1 −\\int_{\\theta} Q_{θ}^{N} ⊗ Q_{ϑ}^{N}(\\tilde{α}^N (θ,ϑ))Q(θ,dϑ)]\n",
        "$$\n",
        "\n",
        "> where:\n",
        "* ⊗ indicates the product of measures\n",
        "* $\\tildeα^{N}(θ,ϑ) := 1∧ \\tilde r^{N}(θ,ϑ)$\n",
        "* $\\tilde r^{N}(θ,ϑ) = \\frac{\\tilde{\\pi}^{N}(θ^{*})q(θ^{*}, θ)}{\\tilde{\\pi}^{N}(θ)q(θ, θ^{*})}$"
      ]
    },
    {
      "cell_type": "markdown",
      "metadata": {
        "id": "FhVV4a9xxRIu"
      },
      "source": [
        "### Grouped independence MH (GIMH):"
      ]
    },
    {
      "cell_type": "markdown",
      "metadata": {
        "id": "eTYgZTknR_N3"
      },
      "source": [
        "> GIMH is a **variation on the MCWM algorithm where the MH transition probability of GIMH is similar in spirit to MCWM**, but differs in that no fresh $Z$ is sampled at every iteration. Rather, GIMH can be interpreted as a form of MCWM where $Z$ is “recycled” from the previous iteration."
      ]
    },
    {
      "cell_type": "markdown",
      "metadata": {
        "id": "uLOW-P3ZbZFs"
      },
      "source": [
        "**The dual interpretation of GIMH:**"
      ]
    },
    {
      "cell_type": "markdown",
      "metadata": {
        "id": "An0b8DRtSDEW"
      },
      "source": [
        "> Lets see first that if we replace the estimators $\\tilde{\\pi}$ of the target density on the acceptance rate of GIMHs, so it can be rewritten as:\n",
        "\n",
        "$$\n",
        "r = \\frac{\\tilde{\\pi}^{N}(θ^{*})q(θ^{*},θ)}{\\tilde{\\pi}^{N}(θ)q(θ, θ^{*})}=\\frac{[\\frac{1}{N}\\sum_{k=1}^{N}π(θ^{*},z^{*}(k)) \\prod_{l=1; l\\ne k}^{N}q_{θ^{*}}(z^{*}(l))]q(θ^{*},θ) q_{θ}^N (Z)}{[\\frac{1}{N}\\sum_{k=1}^{N}π(θ,z(k))\\prod_{l=1; l\\ne k}^{N}q_{θ}(z(l))] q(θ,θ^{*}) q_{θ^{*}}^N(Z^{*})}\n",
        "$$\n",
        "\n",
        "> We can now see GIMH as a MH algorithm with:\n",
        "\n",
        "- Proposal density : $q(θ,ϑ)q_{ϑ}^{N}(Z)$ \n",
        "\n",
        "- Target density : $\\tilde{\\pi}^N(θ,Z)=[\\frac{1}{N}\\sum_{k=1}^{N}π(θ,z^{*}(k)) \\prod_{l=1; l\\ne k}^{N}q_{ϑ}(z^{*}(l))]$\n",
        "\n",
        "> **The dual interpretation of GIMH as an approximation of an MH with target density $π(θ)$ or an MH with target distribution density $\\tildeπ^{N}(θ,Z)$**\n"
      ]
    },
    {
      "cell_type": "markdown",
      "metadata": {
        "id": "_hnK69Y8b4Zt"
      },
      "source": [
        "**The transition probability:**"
      ]
    },
    {
      "cell_type": "markdown",
      "metadata": {
        "id": "CxSh_RCQD3od"
      },
      "source": [
        "> The transition probability of the GIMH variant of the pseudo-marginal approach is of the MH type and is defined on the extended space $\\Theta × Z^{N}$ . It targets $\\tilde π^{N}(dθ,dZ)$ with the proposal distribution $Q(θ,dϑ)Q_{ϑ}^{N}(dZ)$\n",
        "\n",
        "$$\n",
        "\\tilde P^{exact}_{N}(θ,Z; dϑ,dƷ)= \\tildeα^{N}(θ,ϑ)Q(θ,dϑ)Q_{ϑ}^{N}(dƷ)+ δ_{θ,Z}(dϑ,dƷ)[1 − \\int_{\\theta \\times Z^N} \\tildeα^{N}(θ,ϑ)Q(θ,dϑ)Q_{θ}^{N}(dƷ)]\n",
        "$$"
      ]
    },
    {
      "cell_type": "markdown",
      "metadata": {
        "id": "kDZ7Ojpvzk7L"
      },
      "source": [
        "### **Comments:**\n"
      ]
    },
    {
      "cell_type": "markdown",
      "metadata": {
        "id": "2TJVLmJb8g6o"
      },
      "source": [
        "> **MCWC:**\n",
        "  - $Z$ is distributed according to $q_θ^N$.\n",
        "  - **$Z$ and $Z^*$ are updated at each iteration independently of the previously sampled auxiliary variables** given $\\theta$ and $\\theta^*$, that allows {$\\theta_i$} be a markov chain with transition probability $\\tilde{P}_N^{MCWC}$.\n",
        "  - **MCWM and the marginal algorithm P are not equivalent**. In particular, $π(θ)$ is typically not the invariant distribution density of $\\tilde{P}_N^{MCWM}$ and therefore\n",
        "will not produce samples from $π(θ)$ even in steady state. However **using the ergodicity property we can say that the samples generated will asymptotically be distributed according to an approximation of $π(θ)$.**\n",
        "  - In addition, for N large enough, **the transition probability $\\tilde{P}_{MCWM}^{N}$ effectively inherits the convergence properties of the Markov Kernel $P$ of pseudo-marginal algorithm**"
      ]
    },
    {
      "cell_type": "markdown",
      "metadata": {
        "id": "LtxQPNXK9PxM"
      },
      "source": [
        "> **GIMH:**\n",
        "  - **$Z$ is in general not distributed according to $q_θ^N$**, as is the case when the MCWM algorithm is used.\n",
        "  - {$θ_i$} is not a Markov chain anymore, but that **{$θ_i,Z_i$} defines a Markov chain with $\\tilde{P}_N^{GIMH}$ as the transition probability** of this Markov chain.\n",
        "  - Its dual interpretation opens the possibility for the design of algorithms that inherit the potential efficiency of $P$ while still being able to **produce samples from $π(θ)$, and not an approximation.**"
      ]
    },
    {
      "cell_type": "markdown",
      "metadata": {
        "id": "sGGTal24uw48"
      },
      "source": [
        "## **Assumptions and notations:**\n"
      ]
    },
    {
      "cell_type": "markdown",
      "metadata": {
        "id": "jDM-vpbSxXZH"
      },
      "source": [
        "### Assumption 1 (A1):"
      ]
    },
    {
      "cell_type": "markdown",
      "metadata": {
        "id": "PV-QOILIQgGB"
      },
      "source": [
        "> We assume that for our choice of {$Q_{θ}^{N}$}, {$w_{k}^{N}$} and {$Z_{k}^{N}$}, \n",
        "$\\forall N ≥ 1$, any\n",
        "$θ ∈ \\Theta$ and $k = 1,...,N$, \n",
        "\n",
        "$$\n",
        "π_{θ}(·) \\ll Q_{θ}^{N}(·|Z^{N}_{k})\n",
        "$$\n",
        "\n",
        "> Which allows us to define for any $N ∈ ℕ$ the following linear combination of Radon-Nikodym derivatives for $(θ,Z) ∈ \\Theta \\times Z^{N}$: \n",
        "\n",
        "> **The weights of importance**\n",
        "\n",
        "$$\n",
        "γ^{N}(θ) := \\sum_{k=1}^{N} w_{k}^{N} \\frac{π_{θ}(dz(k))}{Q_{θ}^{N}(dz(k)|Z_{k}^{N} )}\n",
        "$$\n",
        "\n",
        "> Whenever:\n",
        "\n",
        "- $γ^{N}(θ)> 0$, we define $λ^{N}(θ) = |log (γ^{N}(θ))|$\n",
        "\n",
        "- and by convention we let $λ^{N}(θ) = +∞$ , when  $γ^{N}(θ)= 0$"
      ]
    },
    {
      "cell_type": "markdown",
      "metadata": {
        "id": "0XjdhvF1dEq-"
      },
      "source": [
        "**Explanation:**\r\n"
      ]
    },
    {
      "cell_type": "markdown",
      "metadata": {
        "id": "mTijMECHf8UT"
      },
      "source": [
        "> In A1 we can see that absolute continuity and the Radon-Nikodym theorem derivatives have allowed us to find an expression for weights of importance, which is a powerful improvement on Monte Carlo simulation and allows more useful information to be obtained from fewer samples. It is especially valuable for risk situations with a small chance of an extremely good or bad result.\r\n",
        "\r\n"
      ]
    },
    {
      "cell_type": "markdown",
      "metadata": {
        "id": "_6ClCuYUxeNh"
      },
      "source": [
        "### Assumption 2 and 4 (A2) (A4):"
      ]
    },
    {
      "cell_type": "markdown",
      "metadata": {
        "id": "1hxzd-C0S6Fm"
      },
      "source": [
        "> For any $\\theta_0 \\in \\Theta$, $\\lim_{k \\rightarrow \\infty} \\left \\| P^k(\\theta_0,.)-\\pi(.) \\right \\| = 0$.\n",
        "\n",
        "> There exist $C \\in (0,+\\infty)$ and $\\rho \\in (0,1)$, such that for any $\\theta_0 \\in \\Theta$ and $k \\in N$\n",
        "    $$\\|P^k(\\theta,\\cdot) - \\pi(\\cdot)\\| \\leq C\\rho^k$$"
      ]
    },
    {
      "cell_type": "markdown",
      "metadata": {
        "id": "8wm75bCpngNQ"
      },
      "source": [
        "**Explanation:**"
      ]
    },
    {
      "cell_type": "markdown",
      "metadata": {
        "id": "kahnmzKAxnlz"
      },
      "source": [
        "> This two assumption have the similar meanings, which both show that the marginal transition probability will close to $\\pi(\\cdot)$ with any precision and show that $\\pi(\\cdot)$ is a invariant distribution of kernel $P$"
      ]
    },
    {
      "cell_type": "markdown",
      "metadata": {
        "id": "kAoxLN_Rxhyw"
      },
      "source": [
        "### Assumption 3 and 5 (A3) (A5):"
      ]
    },
    {
      "cell_type": "markdown",
      "metadata": {
        "id": "NjUJD9LUUFzf"
      },
      "source": [
        "> For any $\\theta \\in \\Theta$ and any $\\epsilon \\gt 0$, $\\lim_{N \\rightarrow \\infty} Q^N_{\\theta}(\\lambda^N(\\theta)>\\epsilon)=0$\n",
        "\n",
        ">Assume for any $\\epsilon \\geq 0$\n",
        "    $\\lim_{N \\to \\infty}\\sup_{\\theta \\in \\Theta}Q_{\\theta}^{N}(\\lambda^N(\\theta) \\geq \\epsilon) = 0$"
      ]
    },
    {
      "cell_type": "markdown",
      "metadata": {
        "id": "tNe-s9AgnjIa"
      },
      "source": [
        "**Explanation:**"
      ]
    },
    {
      "cell_type": "markdown",
      "metadata": {
        "id": "AiTu8Pyex665"
      },
      "source": [
        "> We can see that the probability of the complement ($\\lambda^N(\\theta)\\le \\epsilon$) tends to 1, and it means that $\\lambda^N(\\theta)$ is null with probability 1. This is interpreted as $Q_\\theta^N$ tends $\\pi_{\\theta}$ when $N$ tends to infinity."
      ]
    },
    {
      "cell_type": "markdown",
      "metadata": {
        "id": "IZUzTekLu4p7"
      },
      "source": [
        "## **Generalizations: Theorems and proofs:**"
      ]
    },
    {
      "cell_type": "markdown",
      "metadata": {
        "id": "SgT8k-J-xnEj"
      },
      "source": [
        "### Theorem 1:"
      ]
    },
    {
      "cell_type": "markdown",
      "metadata": {
        "id": "clZ2-avLWQZX"
      },
      "source": [
        "> In the paper, the authors showed **the convergence of the generalization of GIMH** by this theorem.  \n",
        "\n",
        "> We assume (A1) and $P$ defines an $\\psi$-irreducible and aperiodic Markov chain such that  \n",
        "$$\\pi P = \\pi$$  \n",
        "Then for any $N \\in \\mathbb{N}$ such that for any $(\\theta, Z) \\in \\Theta \\times Z^N$, $\\rho(\\theta, Z) > 0$,  \n",
        "$\\tilde{P}_N$ is also $\\psi$-irreducible and aperiodic, and hence for $\\tilde{\\pi}^N$-a.s.  \n",
        "$$\\lim_{k \\to +\\infty} || \\tilde{P}_N^k (\\theta_0, Z_0;.) - \\tilde{\\pi}^N(.)|| = 0$$  "
      ]
    },
    {
      "cell_type": "markdown",
      "metadata": {
        "id": "jc3UWbqPltjk"
      },
      "source": [
        "**Explanation**"
      ]
    },
    {
      "cell_type": "markdown",
      "metadata": {
        "id": "KbIGFx6edLfr"
      },
      "source": [
        "> In other words, this theoreme shows if **the Markov kernel P** defines an **irreducible and aperiodic Markov chain** then **the generalization of GIMH will converge**."
      ]
    },
    {
      "cell_type": "markdown",
      "metadata": {
        "id": "3a-hj7IzmOYJ"
      },
      "source": [
        "**Proof:**"
      ]
    },
    {
      "cell_type": "markdown",
      "metadata": {
        "id": "mkPVuGJmWxDd"
      },
      "source": [
        "\n",
        "\n",
        "* First, we drop N for simplicity, the equation becomes:\n",
        "$$\\lim_{k \\to +\\infty} || \\tilde{P}^k (\\theta_0, Z_0;.) - \\tilde{\\pi}^N(.)|| = 0$$\n",
        "\n",
        "* Recall the definition of $P$ and $\\bar{P}$:\n",
        "$$P(\\theta, dϑ) = \\alpha(\\theta, ϑ) Q(\\theta, dϑ) + \\delta_{\\theta}(dϑ) \\Big[1 - \\int_{\\Theta} \\alpha(\\theta, ϑ) Q(\\theta, dϑ) \\Big]$$\n",
        "\n",
        "$$\\bar{P}(θ,Z; dϑ,dƷ) = \\alpha(\\theta, ϑ) Q(\\theta, dϑ) \\tilde{\\pi}_ϑ^N(dƷ) + \\delta_{\\theta,Z}(dϑ, dƷ) \\Big[1 - \\int_{\\Theta} \\alpha(\\theta, ϑ) Q(\\theta, dϑ) \\Big]$$\n",
        "  \n",
        "* By their construction, **if $P$ defines an $\\psi$-irreducible and aperiodic Markov chain, then so is $\\bar{P}$, and consequently $\\bar{P}$ defines an ergodic Markov chain with invariant distribution $\\tilde{\\pi}^N$**.  \n",
        "  \n",
        "* Next, we show that under **the assumptions the accessible sets of $\\bar{P}$ are included in those of $\\tilde{P}$, which allows to conclude the theorem.** More precisely, we show that $$\\text{for any } k \\in \\mathbb{N}, \\, (\\theta,Z) \\in \\Theta \\times Z^N \\text{ and } A \\times B \\in \\mathcal{B}(\\Theta) \\times \\mathcal{B}(Z^N)$$\n",
        "such that $$\\bar{P}^k(\\theta, Z; A \\times B) > 0 \\text{ then } \\tilde{P}^k(\\theta, Z; A \\times B) > 0$$ by induction.  \n",
        "\n",
        "* We recall the definition of $\\tilde{P}$:\n",
        "$$\n",
        "\\tilde P(θ,Z; dϑ,dZ)= Q_{ϑ}^{N}(dZ) \\tildeα^{N}(θ,ϑ)Q(θ,dϑ)+ δ_{θ,Z}(dϑ,dZ)[1 − \\int_{\\Theta \\times Z^N} \\tildeα^{N}(θ,ϑ)Q(θ,dϑ)Q_{θ}^{N}(dZ)]\n",
        "$$\n",
        "\n",
        "$$\n",
        "\\Rightarrow \\tilde P(θ,Z; A \\times B) = \\int_A Q_{ϑ}^{N}(\\mathbb{I(Ʒ \\in B)} ) \\tildeα^{N}(θ,ϑ)Q(θ,dϑ) + \\mathbb{I}\\{(\\theta , Z) \\in A \\times B \\} \\rho(\\theta, Z)\n",
        "$$\n",
        "\n",
        "$$\n",
        "\\Leftrightarrow \\tilde P(θ,Z; A \\times B) = \\int_A Q_{ϑ}^{N}(1 \\wedge \\tilde r^{N}(θ,ϑ) \\times \\mathbb{I(Ʒ \\in B)} ) Q(θ,dϑ) + \\mathbb{I}\\{(\\theta , Z) \\in A \\times B \\} \\rho(\\theta, Z)\n",
        "$$\n",
        "\n",
        "$$\n",
        "\\Leftrightarrow \\tilde P(θ,Z; A \\times B) = \\int_A  Q_{ϑ}^{N}\\Big( 1 \\wedge \\Big(\\frac{\\gamma^N (ϑ)}{\\gamma^N (\\theta)} r(θ,ϑ) \\Big) \\times \\mathbb{I(Ʒ \\in B)} \\Big) Q(θ,dϑ) + \\mathbb{I}\\{(\\theta , Z) \\in A \\times B \\} \\rho(\\theta, Z)\n",
        "$$  \n",
        "\n",
        "* **Note that:**\n",
        "$\n",
        "\\forall a, b \\in \\mathbb{R}^+, min(1, a \\times b) \\geq min(1, a) \\times min(1,b)\n",
        "$  \n",
        "For any $\\theta \\in \\Theta$, recall that $\\mathcal{Z}_{\\theta} = \\{Z: \\gamma^N (\\theta) > 0 \\}$  \n",
        "\n",
        "* Using the property of $min$ function with $1 \\wedge \\Big(\\frac{\\gamma^N (ϑ)}{\\gamma^N (\\theta)} r(θ,ϑ) \\Big)$, we have\n",
        "\n",
        "$$\n",
        "\\tilde P(θ,Z; A \\times B) \\geq \\int_A  Q_{ϑ}^{N}\\Big( 1 \\wedge \\frac{\\gamma^N (ϑ)}{\\gamma^N (\\theta)} \\times 1 \\wedge r(θ,ϑ) \\mathbb{I(Ʒ \\in B \\cap \\mathcal{Z}_{\\theta})} \\Big) Q(θ,dϑ) + \\mathbb{I}\\{(\\theta , Z) \\in A \\times B \\} \\rho(\\theta, Z)\n",
        "$$\n",
        "\n",
        "$$\n",
        "\\Leftrightarrow \\tilde P(θ,Z; A \\times B) \\geq \\int_A  Q_{ϑ}^{N}\\Big( \\Big(1 \\wedge \\frac{\\gamma^N (ϑ)}{\\gamma^N (\\theta)} \\Big) \\mathbb{I(Ʒ \\in B \\cap \\mathcal{Z}_{\\theta})} \\Big) \\alpha(θ,ϑ) Q(θ,dϑ) + \\mathbb{I}\\{(\\theta , Z) \\in A \\times B \\} \\rho(\\theta, Z)\n",
        "$$\n",
        "\n",
        "$$\n",
        "\\Leftrightarrow \\tilde P(θ,Z; A \\times B) \\geq \\int_A \\tilde\\pi_{ϑ}^{N}\\Big( \\frac{1}{\\gamma^N (ϑ)} \\Big(1 \\wedge \\frac{\\gamma^N (ϑ)}{\\gamma^N (\\theta)} \\Big) \\mathbb{I(Ʒ \\in B \\cap \\mathcal{Z}_{\\theta})} \\Big)  \\alpha(θ,ϑ)  Q(θ,dϑ) + \\mathbb{I}\\{(\\theta , Z) \\in A \\times B \\} \\rho(\\theta, Z)\n",
        "$$  \n",
        "\n",
        "* Consequently, since for any $\\theta \\in \\Theta$ and $ B \\in \\mathcal{B}(\\mathcal{Z}^N)$, we have\n",
        "$\n",
        "\\tilde\\pi_{\\theta}^{N}(B) = \\tilde\\pi_{\\theta}^{N}(B \\cap \\mathcal{Z}_\\theta)\n",
        "$  \n",
        "Hence, **we deduce that the implication is true for $k = 1$.**\n",
        "  \n",
        "* Assume the induction assumption true up to some $k = n \\geq 1$  \n",
        "When $k = n + 1$, we have $ \\bar P^{n+1}(\\theta, Z; A \\times B) > 0 $  \n",
        "  **Assume that:** \n",
        "\n",
        "$$\n",
        "\\int_{\\Theta \\times Z^N} \\tilde P^n(θ,Z; dϑ,dƷ) \\tilde P(θ,Z; A \\times B) = 0\n",
        "$$\n",
        "\n",
        "* which implies $\\tilde P(θ,Z; A \\times B) = 0$ and hence that $\\bar P(θ,Z; A \\times B) = 0$ from the induction assumption for $k = 1$. **This contradicts the fact that $\\bar P^{n+1}(\\theta, Z; A \\times B) > 0$**  \n",
        "  \n",
        "* Therefore, when $\\bar P^{n+1}(\\theta, Z; A \\times B) > 0$, we also have $\\tilde P^{n+1}(\\theta, Z; A \\times B) > 0$. The proof is concluded."
      ]
    },
    {
      "cell_type": "markdown",
      "metadata": {
        "id": "_hMDRzSBxq-L"
      },
      "source": [
        "### Theorem 6:"
      ]
    },
    {
      "cell_type": "markdown",
      "metadata": {
        "id": "tEcFg4-QbTtU"
      },
      "source": [
        "> Asumme (A1), (A2) and (A3). Let $\\epsilon,l>0$ and $\\theta_0 \\in \\Theta$. Then there exists $N(\\epsilon,l,\\theta_0) \\in \\mathbb{N}$ such that for any $N \\ge N(\\epsilon,l,\\theta_0)$ and $Z_0 \\in \\Theta \\times Z^N$ such that $\\lambda^N(\\theta_0) \\lt l\\epsilon/(24k(\\epsilon,\\theta_0))$ we have for any $k \\ge k(\\epsilon,\\theta_0)$,\n",
        "\n",
        "$$\n",
        "\\left \\| \\tilde{P}_N^k(\\theta_0,Z_0;.)-\\tilde{\\pi}^N(.)  \\right \\| \\le (1+l)\\epsilon + \\rho^k(\\theta_0)\n",
        "$$\n",
        "\n",
        "> **Under the assumptions of this theorem we can deduct the following corollary**:\n",
        "\n",
        "> For any $\\epsilon,l \\gt 0$ and $\\theta_0 \\in \\Theta$, there exists $N(\\epsilon,l,\\theta_0) \\in \\mathbb{N}$ such that for any $N \\ge N(\\epsilon,l,\\theta_0)$ and $Z_0 \\in \\Theta \\times Z^N$ such that $\\lambda^N(\\theta_0) \\lt l\\epsilon/(24k(\\epsilon,\\theta_0))$ we have for any $k \\ge k(\\epsilon,\\theta_0)$ and any $\\varphi: \\Theta \\rightarrow [-1,1]$,\n",
        "\n",
        "$$\n",
        "\\frac{1}{2}\\left| \\tilde{P}_N^k(\\theta_0,Z_0;\\varphi)-\\pi^N(\\varphi)  \\right| \\le (1+l)\\epsilon + \\rho^k(\\theta_0)\n",
        "$$\n"
      ]
    },
    {
      "cell_type": "markdown",
      "metadata": {
        "id": "BSqlOURKlOC3"
      },
      "source": [
        "**Explanation**"
      ]
    },
    {
      "cell_type": "markdown",
      "metadata": {
        "id": "VyUmFz42dGA2"
      },
      "source": [
        "\n",
        "> In others words this theorem and its corollary show shows that **under very mild and intuitive conditions, mainly\n",
        "(A2) and (A3), generalizations of GIMH have finite horizon convergence properties very similar to those of the marginal algorithm, provided that N is large enough.** For that reason in the corollary we see that we use $\\pi^N$ instead $\\tilde{\\pi}^N$"
      ]
    },
    {
      "cell_type": "markdown",
      "metadata": {
        "id": "pugYj4NwlUNy"
      },
      "source": [
        "**Proof:**"
      ]
    },
    {
      "cell_type": "markdown",
      "metadata": {
        "id": "-U9s8HSWcPc2"
      },
      "source": [
        "- Dropping $N$ for notational simplicity, we have that for any $k \\ge 1$,\n",
        "$(\\theta_0,Z_0) \\in \u0005\\Theta \\times Z^N$ and any $\\psi: \\Theta \\times Z^N \\rightarrow [−1, 1]$,\n",
        "\n",
        "  $$\n",
        "\\tilde{P}_{\\psi}^k(\\theta_0,Z_0)-\\tilde{\\pi}(\\varphi) = S_0(k)+S_1(k)+S_2(k) \\ \\ ...(1)\n",
        "$$\n",
        "\n",
        "  with $\\tilde{\\pi}_0^N(\\psi):= \\tilde{\\pi}_0^N(\\psi(\\theta,.))$ and where:\n",
        "\n",
        "  $$\n",
        "S_0(k) = \\bar{P}_{\\psi}^k(\\theta_0,Z_0) - P^k(\\tilde{\\pi}_{\\theta}^N(\\psi))(\\theta_0)\n",
        "$$\n",
        "\n",
        "  $$\n",
        "S_1(k) = P^k(\\tilde{\\pi}_{\\theta}^N(\\psi))(\\theta_0)-\\pi(\\tilde{\\pi}_{\\theta}^N(\\psi))\n",
        "$$\n",
        "\n",
        "  $$\n",
        "S_2(k) = \\tilde{P}_{\\psi}^k(\\theta_0,Z_0)-\\bar{P}_{\\psi}^k(\\theta_0,Z_0)\n",
        "$$\n",
        "\n",
        "- **$S_0(k)$ and $S_2(k)$ correspond to the bias introduced by the\n",
        "approximation to the “ideal” chain**. So, for a fixed $k$ this bias can be\n",
        "made arbitrarily small for N sufficiently large. \n",
        "Let \u000e$\\epsilon > 0$ and $(\\theta_0,Z_0) \\in \\Theta \\times Z_N$\n",
        "such that $\\lambda^N(\\theta_0) \\lt \\epsilon$\u000e. **By a coupling argument or induction**:\n",
        "  $$\n",
        "\\left | S_0(k) \\right | \\le 2\\rho(\\theta_0)^k \\ ... (2)\n",
        "$$\n",
        "\n",
        "- Since $\\tilde{\\pi}_θ^N(\\psi):\\Theta \\rightarrow [−1, 1]$, by (A2) we have:\n",
        "\n",
        "  $$\n",
        "k(\\epsilon,\\theta_0) \\lt +\\infty \\ and \\ \\left | S_1(k(\\epsilon,\\theta_0)) \\right | \\le 2\\epsilon \\ ... (3)\n",
        "$$\n",
        "\n",
        "- Now we set $k_0:= k(\\epsilon\u000e,\\theta_0)$ and use the following telescoping sum decomposition:\n",
        "\n",
        "  $$\n",
        "  S_2 := S_2 (k_0) = \\sum_{l=0}^{k_0-1}{\\bar{P}^l\\tilde{P}^{k_0-l}\\psi(\\theta_0,Z_0) - \\bar{P}^{l+1}\\tilde{P}^{k_0-(l+1)}\\psi(\\theta_0,Z_0)}\n",
        "$$\n",
        "\n",
        "  $$\n",
        "  S_2 := S_2 (k_0) = \\sum_{l=0}^{k_0-1}{\\bar{P}^l(\\tilde{P}-\\bar{P})\\tilde{P}^{k_0-(l+1)}\\psi(\\theta_0,Z_0)}\n",
        "$$\n",
        "\n",
        "- Let $\\epsilon \\in ]0, 1]$. Noticing for any $l \\gt 1$ we have for any $\\bar{\\psi}: \\Theta \\times Z^N \\rightarrow [−1, 1]$\n",
        "  $$\n",
        "\\bar{P}^{l}\\bar{\\psi}(\\theta_0,Z_0) = \\rho(\\theta_0)^l\\bar{\\psi}(\\theta_0,Z_0) + \\sum_{j=1}^{l}\\bar{P}^{j-1}\\left \\{ Q(\\theta_{j-1},\\alpha(\\theta_{j-1},\\theta_{j})\\rho(\\theta_{j})^{l-j}\\tilde{\\pi}^N_{\\theta_j}(\\bar{\\psi(\\theta_j,.)})) \\right \\}(\\theta_0,Z_0)\n",
        "$$\n",
        "\n",
        "- Then applying Lemma 4 ($k_0$) times and proposition 5 ($k_0-1$) times, we show that there exists $N(\\varepsilon,\\theta_0)$ such that for any $N \\ge N(\\varepsilon,\\theta_0)$ and some $C\\lt l/(24k_0)$\n",
        "\n",
        "  $$\n",
        "\\left| S_2 \\right| \\le 24Ck_0\\epsilon + (k_0-1)\\varepsilon\n",
        "$$\n",
        "\n",
        "  Taking $\\varepsilon  = 2\\epsilon(l-12k_0C)/(k_0-1)$ we have:\n",
        " \n",
        "  $$\n",
        "\\left| S_2 \\right| \\le 2\\epsilon l \\ ... (4)\n",
        "$$\n",
        "\n",
        "- Finally replacing (2), (3) and (4) in (1):\n",
        "\n",
        "  $$\n",
        "\\frac{1}{2}|\\tilde{P}_{\\psi}^k(\\theta_0,Z_0)-\\tilde{\\pi}(\\varphi)| \\le \\rho^k(\\theta_0) + \\epsilon + \\epsilon l = (1+l)\\epsilon + \\rho^k(\\theta_0) \n",
        "$$\n"
      ]
    },
    {
      "cell_type": "markdown",
      "metadata": {
        "id": "1MwuFYBZxrUo"
      },
      "source": [
        "### Theorem 8:"
      ]
    },
    {
      "cell_type": "markdown",
      "metadata": {
        "id": "uJrJPljMUSec"
      },
      "source": [
        "> Assume (A1) and let $N \\in \\mathbb{N}$, then:\r\n",
        "  1. If $\\pi (\\mathcal{U}^N)>0$, then $\\tilde P_N$ cannot be geometrically ergodic;\r\n",
        "\r\n",
        "> 2. If we assume that there exists $n_0 \\geq 1$, a constant $\\epsilon > 0$ and a measure $\\nu$ on $(\\Theta, \\mathcal{B}(\\Theta))$ such that for any $\\theta$, $A \\in \\Theta \\times \\mathcal{B}(\\Theta)$, $K^{n_0}(\\theta, A) \\geq \\epsilon \\nu(A)$ which implies that $P$ is uniformly ergodic, then if in addition $\\gamma^N_* < + \\infty$ then $\\tilde P_N$ is uniformly ergodic.\r\n",
        "\r\n",
        "> Where:\r\n",
        " $$K(\\theta, dϑ) = \\alpha (\\theta, ϑ) Q(\\theta, dϑ),\\qquad \\gamma^N_* = \\sup_{\\theta, Z \\in \\Theta \\times Z^N} \\gamma^N (\\theta)$$ \r\n",
        "\r\n"
      ]
    },
    {
      "cell_type": "markdown",
      "metadata": {
        "id": "HmXId1owk8EP"
      },
      "source": [
        "**Explanation**"
      ]
    },
    {
      "cell_type": "markdown",
      "metadata": {
        "id": "kbpHsoqWcGr8"
      },
      "source": [
        "\n",
        "> This theorem illustrates the **critical importance** of the **choice of a good importance sampling distribution** $\\mathbf{Q^N_\\theta}$ to ensure that $\\mathbf{\\tilde P_N}$ is **uniformly ergodic**.\n",
        "Particularly, the authors show that for a given $N \\in \\mathbb{N}$, if the important weights $\\gamma^N(\\theta)$ involved in the definition\n",
        "of the pseudo-marginal $\\tilde \\pi^N(d\\theta)$ are **unbounded** for **too many** $\\mathbf{\\theta}$, then $\\tilde P_N$ **cannot be geometrically egordic**.  \n",
        "\n",
        "> The term **too many** is quantified in term of the measure set\n",
        "$$\\mathcal{U}^N = \\{ \\theta : \\forall M > 0, \\, Q^N_\\theta (\\gamma^N (\\theta) > M)\\} > 0 \\text{ under } \\pi$$"
      ]
    },
    {
      "cell_type": "markdown",
      "metadata": {
        "id": "WNFgXhbAeVc3"
      },
      "source": [
        "**Proof of the first statement**:"
      ]
    },
    {
      "cell_type": "markdown",
      "metadata": {
        "id": "HYEdS8LjkbA4"
      },
      "source": [
        "  \r\n",
        "- Recall the **Proposition 5.1** of ROBERTS, G. O. and TWEEDIE, R., in the paper **Geometric convergence and central limit theorems for multidimensional Hastings and Metropolis algorithms** (1996).  \r\n",
        "  > For any Hastings-Metropolis algorithm, if **ess sup $\\mathbf{ \\rho(x) = 1}$** then the algorithm is **not geometrically ergodic**.\r\n",
        "\r\n",
        "- Where **ess sup** is the essential supremum which is the supremum of almost all elements in the set. And $\\rho(x)$ is the rejection probabilities.  \r\n",
        "This proposition implies that if there are **too many candidates rejected**, then the **algorithm is not geometrically ergodic**.  \r\n",
        "\r\n",
        "- Since $\\alpha(x) = 1 - \\rho(x)$, it is equivalent to say that **ess inf** $\\mathbf{ \\alpha(x) = 0}$. Using this proposition, we want to show that for any $\\epsilon > 0$\r\n",
        "$$\\tilde \\pi^N(\\mathbb{I} \\{ \\alpha (\\theta, Z) \\leq \\epsilon \\}) > 0$$\r\n",
        "\r\n",
        "  Recall that:\r\n",
        "$$\\tilde \\pi^N_\\theta(dƷ) = Q^N_\\theta(dƷ) \\gamma^N(\\theta)$$\r\n",
        "\r\n",
        "- Hence, it is equivalent to show that:\r\n",
        "$$\\tilde \\pi^N(\\mathbb{I} \\{ \\alpha (\\theta, Z) \\leq \\epsilon \\}) = \\pi \\{Q^N_\\theta (\\gamma^N(\\theta) \\mathbb{I} \\{ \\alpha (\\theta, Z) \\leq \\epsilon \\}) \\} > 0\r\n",
        "$$  \r\n",
        "  We have:\r\n",
        "$$\r\n",
        "\\alpha^N (\\theta, Z) = \\int_{\\Theta \\times Z^N} \\Big( 1 \\wedge \\frac{\\gamma^N(ϑ)}{\\gamma^N(\\theta)} r(\\theta, ϑ) \\Big) Q(\\theta, dϑ) Q^N_ϑ(dƷ)\r\n",
        "$$\r\n",
        "\r\n",
        "$$\r\n",
        "= \\int_{\\Theta} \\Big( \\int_{Z^N} \\tilde \\pi^N_ϑ(dƷ) \\Big) \\frac{1}{\\gamma^N(ϑ)} \\Big( 1 \\wedge \\frac{\\gamma^N(ϑ)}{\\gamma^N(\\theta)} r(\\theta, ϑ) \\Big) Q(\\theta, dϑ)\r\n",
        "$$\r\n",
        "\r\n",
        "$$\r\n",
        "= \\int_{\\Theta} \\frac{1}{\\gamma^N(ϑ)} \\Big( 1 \\wedge \\frac{\\gamma^N(ϑ)}{\\gamma^N(\\theta)} r(\\theta, ϑ) \\Big) Q(\\theta, dϑ)\r\n",
        "$$\r\n",
        "\r\n",
        "- Again, using the property of $min$ function, we have:\r\n",
        "\r\n",
        "$$\r\n",
        "\\int_{\\Theta} \\frac{1}{\\gamma^N(ϑ)} \\Big( 1 \\wedge \\frac{\\gamma^N(ϑ)}{\\gamma^N(\\theta)} r(\\theta, ϑ) \\Big) Q(\\theta, dϑ)\r\n",
        "\\leq \\int_{\\Theta} \\frac{1}{\\gamma^N(ϑ)} (1 \\wedge \\gamma^N(ϑ)) \\Big( 1 \\wedge \\frac{r(\\theta, ϑ)}{\\gamma^N(\\theta)}  \\Big) Q(\\theta, dϑ)\r\n",
        "\\leq \\int_{\\Theta} \\Big( 1 \\wedge \\frac{r(\\theta, ϑ)}{\\gamma^N(\\theta)}  \\Big) Q(\\theta, dϑ)\r\n",
        "$$  \r\n",
        "\r\n",
        "- For any $(\\theta, ϑ) \\in \\mathcal{U}^N \\times \\Theta$, since $r(\\theta, ϑ) < +\\infty$ and $\\{ Z: \\gamma^N(\\theta) > M \\} \\neq \\varnothing$ with any $M > 0$, we have:\r\n",
        "\r\n",
        "$$\r\n",
        "\\lim_{M \\rightarrow \\infty} \\sup_{\\{ Z: \\gamma^N(\\theta) > M \\}} 1 \\wedge \\frac{r(\\theta, ϑ)}{\\gamma^N(\\theta)} = 0\r\n",
        "\\Rightarrow \\lim_{M \\rightarrow \\infty} \\sup_{\\{ Z: \\gamma^N(\\theta) > M \\}} \\alpha (\\theta, Z) = 0\r\n",
        "$$\r\n",
        "\r\n",
        "- Hence for any $\\epsilon > 0$, there exists $M < +\\infty$ such that\r\n",
        "$$\r\n",
        "Q^N_\\theta ( \\{ \\gamma^N(\\theta) > M, \\alpha (\\theta, Z) \\leq \\epsilon \\}) > 0\r\n",
        "$$\r\n",
        "Hence\r\n",
        "\r\n",
        "$$\r\n",
        "Q^N_\\theta (\\gamma^N(\\theta) \\mathbb{I} \\{ \\alpha (\\theta, Z) \\leq \\epsilon \\}) \\geq M Q^N_\\theta ( \\mathbb{I} \\{ \\gamma^N(\\theta) > M, \\alpha (\\theta, Z) \\leq \\epsilon \\}) > 0\r\n",
        "$$\r\n",
        "\r\n",
        "- We deduce that\r\n",
        "\r\n",
        "$$\r\n",
        "\\pi \\{ Q^N_\\theta (\\gamma^N(\\theta) \\mathbb{I} \\{ \\alpha (\\theta, Z) \\leq \\epsilon \\}) \\} > 0\r\n",
        "$$\r\n",
        "\r\n",
        "- Given this proof, we have shown that if $\\gamma^N(\\theta)$ are **unbounded** for **too many** $\\mathbf{\\theta}$, then $\\tilde P_N$ cannot be geometrically egordic."
      ]
    },
    {
      "cell_type": "markdown",
      "metadata": {
        "id": "SOPCCWojiJx-"
      },
      "source": [
        "**Proof of the second statement**:"
      ]
    },
    {
      "cell_type": "markdown",
      "metadata": {
        "id": "fGkcidW8ajHz"
      },
      "source": [
        "> In the **second statement**, the authors introduce the condition $\\mathbf{K^{n_0}(\\theta, A) \\geq \\epsilon \\nu(A)}$ to guarantee that $\\mathbf{P}$ **is uniformly ergodic**. In addition, when $\\mathbf{\\gamma^N_* < +\\infty}$ ( $\\gamma^N(\\theta)$ are bounded for all $\\theta$), then $\\mathbf{\\tilde P}$ **is also uniformly ergodic**.  \r\n",
        "\r\n",
        ">However, it is important to note that in general, it is **impossible to achieve the rate of convergence of the marginal chain P**, even when {$\\gamma^N_∗ $} is bounded."
      ]
    },
    {
      "cell_type": "markdown",
      "metadata": {
        "id": "6wk_HdBfQhBs"
      },
      "source": [
        "### Theorem 9: ##"
      ]
    },
    {
      "cell_type": "markdown",
      "metadata": {
        "id": "BQXoDEnWQlAu"
      },
      "source": [
        "> Assume (A1), (A4), (A5) and that for any $N \\geq 1$ there exists a probability distribution $\\check{\\pi}^N$ on $(\\Theta,\\mathcal{B}(\\Theta)$ such that $\\check{\\pi}^N\\tilde{P}_N = \\check{\\pi}^N$, with $\\tilde{P}_N = \\tilde{P}^{noisy}_N$, Then for any $\\epsilon \\in (0,\\rho^{-1} -1)$ there existes $N(\\epsilon,\\rho) \\in \\mathbb{N}$, $\\tilde{\\rho} \\in (\\rho,\\rho(1+\\epsilon)] \\subset (\\rho,1)$ and $\\tilde{C} \\in (0,\\infty)$ such that for $N \\geq N(\\epsilon,\\rho), \\theta_0 \\in \\Theta$ and $k\\geq 1$:\r\n",
        "  <ol>\r\n",
        "    <li> $\\|\\tilde{P}_N^{k}(\\theta_0,\\cdot) - \\check{\\pi}^N(\\cdot)\\| \\leq \\tilde{C}\\tilde{p}^k \\quad$ \r\n",
        "    <li> $\\|\\pi - \\check{\\pi}^N \\|\\leq C\\frac{\\epsilon}{1-\\rho} \\quad$\r\n",
        "  </ol>"
      ]
    },
    {
      "cell_type": "markdown",
      "metadata": {
        "id": "4qE0huBuQskL"
      },
      "source": [
        "**Explanation**"
      ]
    },
    {
      "cell_type": "markdown",
      "metadata": {
        "id": "M8hFUCv4QwdG"
      },
      "source": [
        "1. This theorem tells us if the marginal algos can have arbitray precision to the invariant distribution(A4).The MCWM can inherits this property to his invariant distribution(1)\r\n",
        "    \r\n",
        "2. It tell us the marginal distribution is arbitray close to the MCWM invariant distribution"
      ]
    },
    {
      "cell_type": "markdown",
      "metadata": {
        "id": "dXMMo4rjjahF"
      },
      "source": [
        "**Proof**"
      ]
    },
    {
      "cell_type": "markdown",
      "metadata": {
        "id": "zueSo045jcgu"
      },
      "source": [
        "- In some instances we here drop N for notational simplicity. First no-\r\n",
        "tice that for any θ ∈ \u0005 and n ∈ N,\r\n",
        "$$\r\n",
        "\\begin{align}\r\n",
        "\\|\\tilde{P}^{k}(\\theta_0,\\cdot) - P^{k}(\\theta_0,\\cdot)\\| & \\leq \\sum_{i=0}^{n-1}\\|\\tilde{P}^{n-i-1}(\\theta,(P-\\tilde{P})(P^i-\\pi)(\\cdot))\\| \\\\\r\n",
        "& \\leq C\\sup_{\\theta \\in \\Theta}\\|\\tilde{P}(\\theta_0,\\cdot) - P(\\theta_0,\\cdot)\\|\\sum_{i=0}^{n-1}\\rho^i \\\\\r\n",
        "& \\leq \\frac{C}{1-\\rho}\\sup_{\\theta \\in \\Theta}\\|\\tilde{P}(\\theta_0,\\cdot) - P(\\theta_0,\\cdot)\\|\r\n",
        "\\end{align}\r\n",
        "$$\r\n",
        "\r\n",
        "- Then we bound the $\\|\\tilde{P}(\\theta_0,\\cdot) - P(\\theta_0,\\cdot)\\|$\r\n",
        "\r\n",
        "$$P(θ,dϑ) - \\tilde P(θ,dϑ)  = Q_{θ}^{N} ⊗ Q_{ϑ}^{N} (\\alpha(\\theta,ϑ)-\\tilde \\alpha^{N}(θ,Z,ϑ,\\mathfrak{Z}))Q(θ,dϑ)+ δ_{θ}(dϑ)\\int_{\\theta} Q_{θ}^{N} ⊗ Q_{ϑ}^{N}(\\tilde \\alpha^{N}(θ,Z,ϑ,\\mathfrak{Z})-\\alpha(\\theta,ϑ))Q(θ,dϑ) $$\r\n",
        "\r\n",
        "- Let $\\epsilon \\in (0,1]$ \\\\\r\n",
        "\r\n",
        "$$\\{Z,\\mathfrak{Z}\\} \\in Z^N \\subset \\{Z,\\mathfrak{Z}:\\lambda^N(\\theta) \\geq \\epsilon\\} \\cup \\{Z,\\mathfrak{Z}:\\lambda^N(\\vartheta) \\geq \\epsilon\\} \\cup \\{Z,\\mathfrak{Z}:\\lambda^N(\\theta) \\leq \\epsilon,\\lambda^N(\\vartheta) \\leq \\epsilon\\}$$\r\n",
        "\r\n",
        "$$\r\n",
        "|Q_{θ}^{N} ⊗ Q_{ϑ}^{N} (\\alpha(\\theta,ϑ)-\\tilde \\alpha^{N}(θ,Z,ϑ,\\mathfrak{Z}))Q(θ,dϑ)| \\leq Q_{θ}^{N}(\\lambda^N(\\theta) \\geq \\epsilon) + Q_{θ}^{N}(\\lambda^N(\\vartheta) \\geq \\epsilon) +Q_{θ}^{N}(1\\wedge\\lambda^N(\\theta) \\textbf{1}(\\lambda^N(\\theta) \\leq \\epsilon)) + Q_{θ}^{N}(1\\wedge\\lambda^N(\\vartheta) \\textbf{1}(\\lambda^N(\\vartheta) \\leq \\epsilon))\r\n",
        "$$\r\n",
        "\r\n",
        "- Following proof of lemma 4. and from (A5), we conclude that there existes $N(\\epsilon)$, such that for any $N \\geq N(\\epsilon)$ and $\\theta \\in \\Theta$\r\n",
        "\r\n",
        "$$|Q_{θ}^{N} ⊗ Q_{ϑ}^{N} (\\alpha(\\theta,ϑ)-\\tilde \\alpha^{N}(θ,Z,ϑ,\\mathfrak{Z}))Q(θ,dϑ)| \\leq 4 \\epsilon$$\r\n",
        "\r\n",
        "- Because $\\int_{\\Theta} Q(θ,dϑ )=1$\r\n",
        "\r\n",
        "$$\\|\\tilde{P}(\\theta_0,\\cdot) - P(\\theta_0,\\cdot)\\| \\leq 4\\epsilon$$\r\n",
        "\r\n",
        "- Because of A(4) and the triangle inequaility\r\n",
        "$$\r\n",
        "\\begin{align}\r\n",
        "\\|\\tilde{P}^{n}(\\theta_0,\\cdot) - \\tilde{P}^{n}(\\vartheta_0,\\cdot)\\| \r\n",
        "& \\leq \r\n",
        "\\|\\tilde{P}^{n}(\\theta_0,\\cdot) -{P}^{n}(\\theta_0,\\cdot)\\| + \r\n",
        "\\|{P}^{n}(\\vartheta_0,\\cdot) - \\tilde{P}^{n}(\\vartheta_0,\\cdot)\\| +\r\n",
        "\\|{P}^{n}(\\vartheta_0,\\cdot) - {P}^{n}(\\theta_0,\\cdot)\\| \\\\\r\n",
        "& \\leq C\\rho^n + \\frac{8C\\epsilon}{1-\\rho}\r\n",
        "\\end{align}\r\n",
        "$$\r\n",
        "change $\\rho \\to \\tilde{\\rho} = \\rho\\sqrt[n]{C(1+\\frac{8\\epsilon\\rho^{-n}}{1-\\rho})}$ and choose the proper $\\epsilon$ adn $n$ we get (1) \\\\\r\n",
        "\r\n",
        "- Using the same idea for the second proposition"
      ]
    },
    {
      "cell_type": "markdown",
      "metadata": {
        "id": "BECQZkDfu9Oh"
      },
      "source": [
        "## **Theorical example: Reversible jumps**"
      ]
    },
    {
      "cell_type": "markdown",
      "metadata": {
        "id": "NTrWmmW2x138"
      },
      "source": [
        "### The problem: Toy example"
      ]
    },
    {
      "cell_type": "markdown",
      "metadata": {
        "id": "kt1wgcpnHQSo"
      },
      "source": [
        "> In this example, there are two models M1, M2, and they are indexed by  θ where θ  can be 1 or 2, for which the true marginals are known exactly. Authors estimate the distribution of these two model. Then they compare the simulation of estimators by basic RJMCMC alogrithm and the improved  alogrithm with the theorical expected distribution. Then it reflects the limit of basic RJMCMC in the more realistic and difficult scenarios and the reliability of the improved algorithm.\r\n",
        "\r\n",
        "> We consider this toy transdimensional target distribution\r\n",
        "defined on $\\text { on }\\{1\\} \\times \\mathbb{R} \\cup\\{2\\} \\times \\mathbb{R}^{2}$，this is the theorical expected distribution. \r\n",
        "\r\n",
        "$$\r\n",
        "\\begin{aligned}\r\n",
        "\\pi(\\theta, z)=& \\mathbb{I}(\\theta=1) \\frac{1}{4} \\mathcal{N}(z ; 0,1) \\\\\r\n",
        "&+\\mathbb{I}(\\theta=2) \\frac{3}{4} \\mathcal{N}\\left(z=\\left[\\begin{array}{l}\r\n",
        "x \\\\\r\n",
        "y\r\n",
        "\\end{array}\\right] ;\\left[\\begin{array}{l}\r\n",
        "0 \\\\\r\n",
        "0\r\n",
        "\\end{array}\\right], \\Sigma=\\left[\\begin{array}{cc}\r\n",
        "1 & -0.9 \\\\\r\n",
        "-0.9 & 1\r\n",
        "\\end{array}\\right]\\right)\r\n",
        "\\end{aligned}\r\n",
        "$$\r\n",
        "\r\n",
        "> Obviously here $\\pi(\\theta=1) = \\frac{1}{4}$ and $\\pi(\\theta=2) = \\frac{3}{4}$.The model 1 is the univariate normal distribution, the model 2 is bivariate normal distribution. \r\n",
        "\r\n",
        "> Then, authors want develop a reversible jump algorithm to sample from this distribution, and compare the results with the exact distribution. The reversible jump processus can be defined as a simple marginal ideal chain through the transition\r\n",
        "\r\n",
        "$$\r\n",
        "P(\\theta, \\vartheta)=1 \\wedge \\frac{\\pi(\\vartheta)}{\\pi(\\theta)} \\mathbb{I}(\\vartheta \\neq \\theta)+\\mathbb{I}(\\vartheta=\\theta)\\left[1-1 \\wedge \\frac{\\pi\\left(\\vartheta^{\\prime}\\right)}{\\pi(\\theta)} \\mathbb{I}\\left(\\vartheta^{\\prime} \\neq \\theta\\right)\\right]$$\r\n",
        "\r\n",
        "> where $\\theta$ is the model(t-1), $\\vartheta$ isthe model(t-1). This meand that when we at model 1, the probability to jump from model 1 to model 2 is 1.\r\n"
      ]
    },
    {
      "cell_type": "markdown",
      "metadata": {
        "id": "IjiCd1DxIMxE"
      },
      "source": [
        "### Main idea:"
      ]
    },
    {
      "cell_type": "markdown",
      "metadata": {
        "id": "Ari4U3fsXrNB"
      },
      "source": [
        "> We can assumed that **we are given the univariate normal distributions and the bivariate normal distribution in the algebraic expression of $\\pi(\\theta)$, but we don't know the proportional factor $\\frac{1}{4}$.**\r\n",
        "We can successfully recognize a univariate normal distribution $\\mathcal{N}(z ; 0,1)$. But it's difficult to recognize 3 times a bivariate normal distribution for model M2. For simplicity, author resort to RJMCMC algorithm. However, in basic RJMCMC algorithm, it also requires one to propose a bidimensional vector $z ∼ Q(·)$. Then the effectiveness of the algorithm is highly depende on this proposal distribution. Sometimes, it's hard to choose a suitable distribution $z ∼ Q(·)$ in the complex scenarios for estimating  $\\pi(\\theta, z)$\r\n",
        "\r\n",
        "> So, auther propose the simple strategy described with the truncated normal distribution:\r\n",
        "\r\n",
        "> Any $\\eta>0,$ let $\\mathcal{N}_{\\eta}\\left(z ; \\mu, \\Sigma_{d}\\right)$ $\\propto \\mathcal{N}\\left(z ; \\mu, \\Sigma_{d}\\right)$ when $(z-\\mu)^{\\mathrm{T}} \\Sigma^{-1}(z-\\mu) \\leq \\eta^{2}$, and $\\mathcal{N}_{\\eta}\\left(z ; \\mu, \\Sigma_{d}\\right)$ = 0 otherwise, which is a truncated normal distribution.\r\n",
        "\r\n",
        "> Then, for $\\theta=2$ author\r\n",
        "define $Q_{\\theta}^{N}(Z)=Q(z(1)) \\prod_{i=2}^{N} \\mathcal{N}_{n}\\left(z(i) ; z(i-1)+\\frac{a^{2}}{2} \\nabla_{z} \\log \\pi_{\\theta}(z(i-1)), \\sigma^{2} I_{2}\\right)$\r\n",
        "\r\n",
        "> And for $\\theta=2, \\pi(\\theta)$ is replaced with the estimator\r\n",
        "$$\r\n",
        "\\tilde{\\pi}^{N}(\\theta)=\\frac{1}{N}\\left[\\frac{\\pi(\\theta, z(1))}{Q(z(1))}+\\sum_{i=2}^{N} \\frac{{\\pi}(\\theta, {z}(i))}{\\mathcal{N}_{\\eta}\\left(z(i) ; z(i-1)+\\sigma^{2} / 2 \\nabla_{z} \\log \\pi_{\\theta}(z(i-1)) \\cdot \\sigma^{2}\\right)}\\right]\r\n",
        "$$\r\n",
        "where $z(1), z(2), \\ldots, z(N)$ are sampled according to $Q_{\\theta}^{N}$ above.\r\n",
        "\r\n",
        "> When N=1,$$\\tilde{\\pi}^{N}(\\theta)=\\frac{\\pi(\\theta, z(1))}{Q(z(1))}$$ where, $Q(z(1))$=$Q(·)$. \r\n",
        "\r\n",
        "> **So, the improved agorithm comes back to the “standard” RJMCMC algorithm described above, $z ∼ Q(·)$.**\r\n",
        "\r\n",
        "\r\n"
      ]
    },
    {
      "cell_type": "markdown",
      "metadata": {
        "id": "VNWspY4Nx53E"
      },
      "source": [
        "### Results:"
      ]
    },
    {
      "cell_type": "markdown",
      "metadata": {
        "id": "Cgjh90fYaVhn"
      },
      "source": [
        "> The authors propose a bidimensional vector $ \\begin{equation}\r\n",
        "Q(z)=\\mathcal{N}\\left(z ;[3,3]^{\\mathrm{T}}, I_{2}\\right)\r\n",
        "\\end{equation}$ for the second model M2. Then, they run the algorithm for $N$=1,5,10 with lots of iterations. $N$ is the number of samples. $N$=1 corresponds to the “standard” RJMCMC algorithm.  We can find that the developped RJMCMC algorithm **with $N$=5 or 10 obtain the better estimators**, the probability of two models coverge to $\\frac{1}{4}$ and $\\frac{3}{4}$. But the basic RJMCMC with **$N$=1 gets a bad estimator even though this algorithm also gets convergence**. The probability of two models coverge to $\\frac{1}{10}$ and $\\frac{9}{10}$ what it's bad. \r\n",
        "\r\n",
        "> Besides, the respective empirical expected acceptance probabilities were 0.0121, 0.5206 and 0.5056. Because the theoretical expected acceptance probability is 1/4 + 3/4 × 1/3 = 0.5. **We can find that the developped RJMCMC algorithm with $N$=5 or 10 obtain the expected acceptance probabilities are close to the theoretical expected acceptance probability.**"
      ]
    },
    {
      "cell_type": "markdown",
      "metadata": {
        "id": "sQ6N4F-HyACz"
      },
      "source": [
        "**Comments:**"
      ]
    },
    {
      "cell_type": "markdown",
      "metadata": {
        "id": "HqBsv5KxeX8y"
      },
      "source": [
        "> **To sum up, basic RJMCMC isn't suit for the complex scenarios, because it too dependends on theproposal distribution**. If we don't choose a good distribution $Q(Z)$, the performance of the estimator is bad. It always difficult to choose a suitable distribution in the complex scenarios. Besides,  basic RJMCMC can contribute to convergence even though we propose a bad distribution $Q(Z)$, but it can't obtain a accurate estimate, it has a \"deceptive behavior\". \r\n",
        "\r\n",
        "> **For improving the basic RJMCMC, it's better to define a distribution $Q_{\\theta}^{N}(Z)$ with truncated normal distribution.** And the estimator of the marginal distribution is replaced by $\\tilde{\\pi}^{N}(\\theta)$ with samples $z(1), z(2), \\ldots, z(N)$. **The performance of this estimator is better, this improved algorithm is reliable.**"
      ]
    },
    {
      "cell_type": "markdown",
      "metadata": {
        "id": "LDPaRJeFx5ht"
      },
      "source": [
        "## **Numerical Illustrations:**"
      ]
    },
    {
      "cell_type": "markdown",
      "metadata": {
        "id": "5eV5UfIYK_PC"
      },
      "source": [
        "> We are going to simulate the joint distribution:\n",
        "$$\n",
        "\\pi(\\theta,z)=\\left\\{\\begin{matrix}\n",
        "\\exp(-z) \\ if \\ 0<\\theta<y\\\\\n",
        "0, \\ otherwise\n",
        "\\end{matrix}\\right.\n",
        "$$\n",
        "> Where the target distribution is the marginal distribution :\n",
        "$$\n",
        "\\pi(\\theta)=\\left\\{\\begin{matrix}\n",
        "\\exp(-\\theta) \\ if \\ \\theta>0\\\\\n",
        "0, \\ otherwise\n",
        "\\end{matrix}\\right.\n",
        "$$\n",
        "> We will use gausians distributions as proposals distributions"
      ]
    },
    {
      "cell_type": "code",
      "metadata": {
        "id": "byI5emL3KctQ"
      },
      "source": [
        "import numpy as np\n",
        "import matplotlib.pyplot as plt\n",
        "import math"
      ],
      "execution_count": null,
      "outputs": []
    },
    {
      "cell_type": "code",
      "metadata": {
        "id": "RMhI8TXBKfDQ"
      },
      "source": [
        "# proposal distribution density of theta_star given theta (normal distribution)\n",
        "def q(t_star,t):\n",
        "    mu=t\n",
        "    sigma=10\n",
        "    return 1/(math.pi*2)**0.5/sigma*np.exp(-(t_star-mu)**2/2/sigma**2) \n",
        "\n",
        "# estimation of target distribution\n",
        "def pi_tilde(t,Z):\n",
        "  pi = np.array([pi_tz(t,z) for z in Z])\n",
        "  q = np.array([q_t(t,z) for z in Z])\n",
        "  return (pi/q).mean()\n",
        "\n",
        "# proposal distribution density of Z given t (normal distribution)\n",
        "def q_t(t,z):\n",
        "  mu=t\n",
        "  sigma=10\n",
        "  return 1/(sigma*(math.pi*2)**0.5)*np.exp(-(z-mu)**2/(2*sigma**2))\n",
        "\n",
        "# joint distribution density pi(theta,z)\n",
        "def pi_tz(t,z):\n",
        "  if (t>0 and z>t):\n",
        "    return np.exp(-z)\n",
        "  else:\n",
        "    return 0\n",
        "\n",
        "# target distribution density pi(theta)\n",
        "def pi_t(t):\n",
        "  if (t>0): \n",
        "    return np.exp(-t)\n",
        "  else:\n",
        "    return 0"
      ],
      "execution_count": null,
      "outputs": []
    },
    {
      "cell_type": "markdown",
      "metadata": {
        "id": "u5IHCmlKOWCp"
      },
      "source": [
        "#### Marginal:"
      ]
    },
    {
      "cell_type": "code",
      "metadata": {
        "colab": {
          "base_uri": "https://localhost:8080/",
          "height": 680
        },
        "id": "s6sm692gOSmN",
        "outputId": "b8a509c2-c27e-47ae-f5be-be87df6d78dc"
      },
      "source": [
        "iter = [500,1000,5000,20000]\n",
        "fig = plt.figure(figsize=(15,10))\n",
        "\n",
        "for i in range(len(iter)):\n",
        "    # input\n",
        "    T = np.array([])\n",
        "    t = 0.1 #initialize theta to be 0.1\n",
        "    for j in range(iter[i]):\n",
        "        u = np.random.rand() # uniform distribution\n",
        "\n",
        "        # sample\n",
        "        t_star = np.random.normal(t,10)\n",
        "\n",
        "        # compute r\n",
        "        r = (pi_t(t_star)*q(t_star,t))/(pi_t(t)*q(t,t_star))\n",
        "        alpha = min(1,r)\n",
        "\n",
        "        # update\n",
        "        if u < alpha:\n",
        "            t = t_star\n",
        "        T=np.hstack((T,t))\n",
        "\n",
        "    # histogram\n",
        "    ax = fig.add_subplot(2,2,i+1)\n",
        "    ax.hist(T,bins=100,density=True)\n",
        "    x = np.linspace(0,10,5000)\n",
        "    y = [pi_t(m) for m in x]\n",
        "    ax.plot(x,y, label=\"density: exp(-theta)\")\n",
        "    ax.legend()\n",
        "    ax.set_ylim(0,1)\n",
        "    ax.text(5,0.5,'I=%d'%iter[i])\n",
        "fig.suptitle('Metropolis_Hastings-Marginal')"
      ],
      "execution_count": null,
      "outputs": [
        {
          "output_type": "execute_result",
          "data": {
            "text/plain": [
              "Text(0.5, 0.98, 'Metropolis_Hastings-Marginal')"
            ]
          },
          "metadata": {
            "tags": []
          },
          "execution_count": 21
        },
        {
          "output_type": "display_data",
          "data": {
            "image/png": "[encoded data removed]",
            "text/plain": [
              "<Figure size 1080x720 with 4 Axes>"
            ]
          },
          "metadata": {
            "tags": [],
            "needs_background": "light"
          }
        }
      ]
    },
    {
      "cell_type": "markdown",
      "metadata": {
        "id": "vMdQsFa8RzfF"
      },
      "source": [
        "#### MCWM:"
      ]
    },
    {
      "cell_type": "code",
      "metadata": {
        "colab": {
          "base_uri": "https://localhost:8080/",
          "height": 680
        },
        "id": "bBSMMK5aR35k",
        "outputId": "aa8c1f02-c6fb-4b37-cc34-3bafc3fdf282"
      },
      "source": [
        "iter = [500,1000,5000,20000]\n",
        "N = 500 # number of Z samples\n",
        "fig = plt.figure(figsize=(15,10))\n",
        "\n",
        "for i in range(len(iter)):\n",
        "    # input\n",
        "    T = np.array([])\n",
        "    t = 0.1 #initialize theta to be 0.1\n",
        "    for j in range(iter[i]):\n",
        "        u = np.random.rand() # uniform distribution\n",
        "\n",
        "        # sample\n",
        "        t_star = np.random.normal(t,10)\n",
        "        Z = np.random.normal(t,10,N)\n",
        "        Z_star = np.random.normal(t_star,10,N)\n",
        "\n",
        "        # compute pi_tilde\n",
        "        pi_N = pi_tilde(t,Z)\n",
        "        pi_N_star = pi_tilde(t_star,Z_star)\n",
        "\n",
        "        # compute r\n",
        "        r = (pi_N_star*q(t_star,t))/(pi_N*q(t,t_star))\n",
        "        alpha = min(1,r)\n",
        "\n",
        "        # update\n",
        "        if u < alpha:\n",
        "            t = t_star\n",
        "        T=np.hstack((T,t))\n",
        "    \n",
        "    # histograme\n",
        "    ax = fig.add_subplot(2,2,i+1)\n",
        "    ax.hist(T,bins=100,density=True)\n",
        "    x = np.linspace(0,10,5000)\n",
        "    y = [pi_t(m) for m in x]\n",
        "    ax.plot(x,y, label=\"density: exp(-theta)\")\n",
        "    ax.legend()\n",
        "    ax.set_ylim(0,1)\n",
        "    ax.text(5,0.5,'I=%d'%iter[i])\n",
        "fig.suptitle('MCWM')"
      ],
      "execution_count": null,
      "outputs": [
        {
          "output_type": "execute_result",
          "data": {
            "text/plain": [
              "Text(0.5, 0.98, 'MCWM')"
            ]
          },
          "metadata": {
            "tags": []
          },
          "execution_count": 24
        },
        {
          "output_type": "display_data",
          "data": {
            "image/png": "[encoded data removed]",
            "text/plain": [
              "<Figure size 1080x720 with 4 Axes>"
            ]
          },
          "metadata": {
            "tags": [],
            "needs_background": "light"
          }
        }
      ]
    },
    {
      "cell_type": "markdown",
      "metadata": {
        "id": "MaL5pT1-UWnq"
      },
      "source": [
        "#### GIMH:"
      ]
    },
    {
      "cell_type": "code",
      "metadata": {
        "colab": {
          "base_uri": "https://localhost:8080/",
          "height": 680
        },
        "id": "96DuOTapWMHg",
        "outputId": "8a3c8368-5ed0-4fb7-e983-6a085e0d8869"
      },
      "source": [
        "iter = [500,1000,5000,20000]\n",
        "N = 500 # number of Z samples\n",
        "fig = plt.figure(figsize=(15,10))\n",
        "\n",
        "for i in range(len(iter)):\n",
        "    # input\n",
        "    T = np.array([])\n",
        "    t = 0.1 # initialize theta to be 0.1\n",
        "    Z = np.random.normal(t,10,N) # initialize Z\n",
        "    for j in range(iter[i]):\n",
        "        u = np.random.rand()\n",
        "\n",
        "        # sample\n",
        "        t_star = np.random.normal(t,10)\n",
        "        Z_star = np.random.normal(t_star,10,N)\n",
        "\n",
        "        # compute pi_tilde\n",
        "        pi_N = pi_tilde(t,Z)\n",
        "        pi_N_star = pi_tilde(t_star,Z_star)\n",
        "        \n",
        "        # compute r\n",
        "        r = (pi_N_star*q(t_star,t))/(pi_N*q(t,t_star))\n",
        "        alpha = min(1,r)\n",
        "\n",
        "        #update\n",
        "        if u < alpha:\n",
        "            t = t_star\n",
        "            Z = Z_star.copy()\n",
        "        T=np.hstack((T,t))\n",
        "\n",
        "    # histograme\n",
        "    ax = fig.add_subplot(2,2,i+1)\n",
        "    ax.hist(T,bins=100,density=True)\n",
        "    x = np.linspace(0,10,5000)\n",
        "    y = [pi_t(m) for m in x]\n",
        "    ax.plot(x,y, label=\"density: exp(-theta)\")\n",
        "    ax.legend()\n",
        "    ax.set_ylim(0,1)\n",
        "    ax.text(5,0.5,'I=%d'%iter[i])\n",
        "fig.suptitle('GIMH')"
      ],
      "execution_count": null,
      "outputs": [
        {
          "output_type": "execute_result",
          "data": {
            "text/plain": [
              "Text(0.5, 0.98, 'GIMH')"
            ]
          },
          "metadata": {
            "tags": []
          },
          "execution_count": 26
        },
        {
          "output_type": "display_data",
          "data": {
            "image/png": "[encoded data removed]",
            "text/plain": [
              "<Figure size 1080x720 with 4 Axes>"
            ]
          },
          "metadata": {
            "tags": [],
            "needs_background": "light"
          }
        }
      ]
    },
    {
      "cell_type": "markdown",
      "metadata": {
        "id": "msM-LSlUV2-W"
      },
      "source": [
        "**Comments:**"
      ]
    },
    {
      "cell_type": "markdown",
      "metadata": {
        "id": "4Gr-bplxV6Ab"
      },
      "source": [
        "> We can see that the three algorithms find the target distribution with 20000 iterations approximately but in the case of Marginal we need to know the target distribution to compute the acceptance.\n",
        "\n",
        "> For the others algorithm we only need the join distribution and propose a distribution to calculate estimators of the target distribution.\n",
        "\n",
        "> We also realize that the time of execution of MCWM and GIMH is more expensive than the Marginal case.\n",
        "\n",
        "> We also see that for 5000 iterations we already have a good estimation of the the distribution in the case of the Marginal algorithm, it shows that it converge faster."
      ]
    },
    {
      "cell_type": "markdown",
      "metadata": {
        "id": "Di-gGRYivI4h"
      },
      "source": [
        "## **Some important questions:**"
      ]
    },
    {
      "cell_type": "markdown",
      "metadata": {
        "id": "3DKwr2_Dy7qK"
      },
      "source": [
        "### Do important sampling gives us unbiased estimators?"
      ]
    },
    {
      "cell_type": "markdown",
      "metadata": {
        "id": "l3WAt5fpqqlg"
      },
      "source": [
        "> we will proof that $\\tilde{\\pi}^{N}(θ)$  and $\\tilde{\\pi}^{N}(\\vartheta)$ are the unbiased estimators of $π(θ)$ and $π(ϑ)$  respectively:\n",
        "  \n",
        "> Thus we begin by the definition of marginal law $π(θ)$:\n",
        "\n",
        "$$\n",
        " π(θ) = \\int π(θ,z) dz = \\int π(θ,z)\\frac{q_{θ}(z)}{q_{θ}(z)} dz \n",
        "$$ \n",
        "\n",
        "> where : \n",
        "$$\n",
        "q_{θ}(z) = q(z|θ) \\iff z(k)|θ \\sim  q_{θ}(.)\n",
        "$$\n",
        "\n",
        "> Then:\n",
        " $$\n",
        " π(θ) = \\int \\frac{π(θ,z)}{q_{θ}(z)} q(z|θ)dz = E[\\frac{π(θ,z)}{q_{θ}(z)}] \n",
        " $$ \n",
        "\n",
        "> Thus using LLN, for some integer N ≥ 1 and $\\forall k \\in {1,2,...,N}$, $(z_{k}) \\ i.i.d. $  we have :\n",
        "\n",
        " $$\n",
        "π(θ) = E[\\frac{π(θ,z)}{q_{θ}(z)}] \\sim \\frac{1}{N}\\sum_{k=1}^{N}\\frac{π(θ,z(k))}{q_{θ}(z(k))}\n",
        " $$ \n",
        "\n",
        "> with $z(k)|θ $ ~ $q_{θ}(.)$\n",
        "\n",
        "> In a similar way considering $ʒ(k)|θ $ ~ $q_{ϑ}(.)$ we can show also that:\n",
        "\n",
        "$$\n",
        "\\tilde{\\pi}^{N}(ϑ) = \\frac{1}{N}\\sum_{k=1}^{N}\\frac{π(ϑ,ʒ(k))}{q_{ϑ}(ʒ(k))}\n",
        "$$\n"
      ]
    },
    {
      "cell_type": "markdown",
      "metadata": {
        "id": "B3linRGjzH3a"
      },
      "source": [
        "### Why $π(θ)$ by MCMC methods is more convenient by appropriate auxiliary simulation?"
      ]
    },
    {
      "cell_type": "markdown",
      "metadata": {
        "id": "y_gacbeDyrZY"
      },
      "source": [
        "> In most Markov models and their continuous generalizations, but also the mixing models, and the problems of model selection in general in a Bayesian frame , $θ$ could represent a parameter of interest and $z$ a missing data set or latent variables.\n",
        "\n",
        "> For this reason it is very common to introduce the variable z for convenience, particularly in cases where the\n",
        "marginal density $π(θ)$ is of exclusive interest, as is our case.\n",
        "\n",
        "> Normally $π(θ)$ could be analytically intractable or too complex to evaluate, while if we introduce the variable $z$, this could give rise to an analytical expression, or facilitate the application of numerical methods.\n"
      ]
    },
    {
      "cell_type": "markdown",
      "metadata": {
        "id": "bKRRIwinzV1X"
      },
      "source": [
        "### A relatively generic way of numerically approximating and Metropolis Hasting Algortihm"
      ]
    },
    {
      "cell_type": "markdown",
      "metadata": {
        "id": "Bd_23Wh0zP7K"
      },
      "source": [
        "> A relatively generic way to approach numerically $π(θ)$ consists in simulating an ergodic Markov chain $(θ_{i},z_{i})$ that admits $π(θ,z)$ as invariable probability density and for it we apply $MCMC$(Markov chain Monte Carlo) techniques that we have seen in the course.\n",
        "\n",
        "> For sampling of Markov conditionals or ergodic transition probabilities $π(θ|z)$ and $π(z|θ)$ as invariant distributions a typical data augmentation sampling scheme can very often facilitate programming and leading to elegant algorithms, it is well established that in numerous situations they can resulting in strongly positively correlated samples $(θ_{i},z_{i})$ which is\n",
        "an undesirable property when efficiency is sought.\n",
        "\n",
        "> On the other hand, if $π(θ)$ were analytically known to be not the case, this would be faster to compute.\n"
      ]
    }
  ]
}